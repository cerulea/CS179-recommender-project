{
 "cells": [
  {
   "cell_type": "code",
   "execution_count": 76,
   "metadata": {},
   "outputs": [],
   "source": [
    "import pyGM as gm\n",
    "import numpy as np\n",
    "import matplotlib.pyplot as plt\n",
    "%matplotlib inline  "
   ]
  },
  {
   "cell_type": "markdown",
   "metadata": {},
   "source": [
    "### Games and Outcomes"
   ]
  },
  {
   "cell_type": "code",
   "execution_count": 77,
   "metadata": {},
   "outputs": [
    {
     "name": "stdout",
     "output_type": "stream",
     "text": [
      "{0: 'MC', 1: 'Life', 2: 'sOs', 3: 'Polt', 4: 'TY', 5: 'INnoVation', 6: 'Mvp', 7: 'ByuN', 8: 'MMA', 9: 'PartinG', 10: 'Snute', 11: 'Zest', 12: 'Maru', 13: 'Nerchio', 14: 'TaeJa', 15: 'NesTea', 16: 'Stephano', 17: 'Dark', 18: 'Neeb', 19: 'HerO', 20: 'Leenock', 21: 'Bomber', 22: 'DongRaeGu', 23: 'Stats', 24: 'HyuN', 25: 'Rain', 26: 'Solar', 27: 'Jaedong', 28: 'herO', 29: 'Classic', 30: 'MarineKing', 31: 'Scarlett', 32: 'aLive', 33: 'soO', 34: 'NaNiwa', 35: 'viOLet', 36: 'ShoWTimE', 37: 'MaNa', 38: 'Sen', 39: 'ForGG', 40: 'Dear', 41: 'Soulkey', 42: 'PuMa', 43: 'GuMiho', 44: 'HuK', 45: 'Hydra', 46: 'SpeCial', 47: 'TRUE', 48: 'Jim', 49: 'Elazer', 50: 'jjakji', 51: 'XiGua', 52: 'MacSed', 53: 'Patience', 54: 'StarDust', 55: 'San', 56: 'TooDming', 57: 'VortiX', 58: 'FruitDealer', 59: 'Creator', 60: 'YoDa', 61: 'ByuL', 62: 'ThorZaIN', 63: 'iAsonu', 64: 'Trap', 65: 'Rogue', 66: 'TLO', 67: 'Kelazhur', 68: 'Losira', 69: 'uThermal', 70: 'Symbol', 71: 'Genius', 72: 'Bly', 73: 'Lilbow', 74: 'Bunny', 75: 'Ryung', 76: 'MaSa', 77: 'Squirtle', 78: 'First', 79: 'HasuObs', 80: 'Alicia', 81: 'Harstem', 82: 'PtitDrogo', 83: 'Has', 84: 'DIMAGA', 85: 'Serral', 86: 'Curious', 87: 'Oz', 88: 'RorO', 89: 'Flash', 90: 'Socke', 91: 'Seed', 92: 'Ret', 93: 'Kas', 94: 'Happy', 95: 'LucifroN', 96: 'IdrA', 97: 'Sniper', 98: 'MarineLorD', 99: 'Welmu', 100: 'Grubby', 101: 'Revival', 102: 'SortOf', 103: 'iaguz', 104: 'Heart', 105: 'White-Ra', 106: 'SuperNova', 107: 'HeRoMaRinE', 108: 'KeeN', 109: 'XY', 110: 'Dream', 111: 'FireCake', 112: 'puCK', 113: 'duckdeok', 114: 'Zanster', 115: 'July', 116: 'TargA', 117: 'Cham', 118: 'elfi', 119: 'TOP', 120: 'Dayshi', 121: 'MorroW', 122: 'RainBOw', 123: 'SaSe', 124: 'Cure', 125: 'TheStC', 126: 'Cyan', 127: 'SeleCT', 128: 'SjoW', 129: 'HalfBreed', 130: 'Golden', 131: 'Pigbaby', 132: 'Brat_OK', 133: 'Hurricane', 134: 'mOOnGLaDe', 135: 'JYP', 136: 'Super', 137: 'Top', 138: 'MyuNgSiK', 139: 'NaDa', 140: 'Lyn', 141: 'ViBE', 142: 'InCa', 143: 'FanTaSy', 144: 'DeMusliM', 145: 'Loner', 146: 'YongHwa', 147: 'GanZi', 148: 'JonSnow', 149: 'GoOdy', 150: 'Impact', 151: 'Suppy', 152: 'Bbyong', 153: 'PiG', 154: 'Moon', 155: 'Petraeus', 156: 'GunGFuBanDa', 157: 'RagnaroK', 158: 'ToD', 159: 'Sacsri', 160: 'HongUn', 161: 'Kane', 162: 'BlinG', 163: 'Jinro', 164: 'qxc', 165: 'Zenio', 166: 'sC', 167: 'TAiLS', 168: 'sLivko', 169: 'Strelok', 170: 'Adelscott', 171: 'BabyKnight', 172: 'Reality', 173: 'Naama', 174: 'TitaN', 175: 'Minigun', 176: 'Tefel', 177: 'NightEnD', 178: 'KingKong', 179: 'Namshar', 180: 'PiLiPiLi', 181: 'Ian', 182: 'Swagger', 183: 'TIME', 184: 'Hack', 185: 'Ensnare', 186: 'Trust', 187: 'Arthur', 188: 'Billowy', 189: 'Illusion', 190: 'Xenocider', 191: 'Fenix', 192: 'Lambo', 193: 'monchi', 194: 'BoxeR', 195: 'Sora', 196: 'Probe', 197: 'AcE', 198: 'CranK', 199: 'Jieshi', 200: 'BBoongBBoong', 201: 'EnDerr', 202: 'Sleep', 203: 'Beastyqt', 204: 'CoCa', 205: 'Lucky', 206: 'Bischu', 207: 'Semper', 208: 'DarKFoRcE', 209: 'Bulldozer', 210: 'Clide', 211: 'Seither', 212: 'DnS', 213: 'LoveCD', 214: 'Sage', 215: 'JimRising', 216: 'State', 217: 'YugiOh', 218: 'Sheth', 219: 'Sting', 220: 'Puzzle', 221: 'LiveZerg', 222: 'souL', 223: 'Stork', 224: 'CatZ', 225: 'Starbuck', 226: 'Apocalypse', 227: 'Shana', 228: 'Armani', 229: 'Slam', 230: 'Virus', 231: 'Infi', 232: 'MaFia', 233: 'Feast', 234: 'Daisy', 235: 'Bails', 236: 'TT1', 237: 'ClouD', 238: 'Rex', 239: 'fraer', 240: 'Check', 241: 'XluoS', 242: 'DeParture', 243: 'NAKSEO', 244: 'Ein', 245: 'Choya', 246: 'LoWeLy', 247: 'Tarson', 248: 'Blysk', 249: 'dde', 250: 'Goswser', 251: 'KiWiKaKi', 252: 'TheBest', 253: 'Shine', 254: 'Guru', 255: 'XlorD', 256: 'Courage', 257: 'KrasS', 258: 'HaNfy', 259: 'hendralisk', 260: 'Last', 261: 'Forte', 262: 'LaLuSh', 263: 'DieStar', 264: 'NXZ', 265: 'SuHoSin', 266: 'Maka', 267: 'Nice', 268: 'Rail', 269: 'Hush', 270: 'Ruin', 271: 'Comm', 272: 'Journey', 273: 'Flying', 274: 'inori', 275: 'Astrea', 276: 'AK', 277: 'EffOrt', 278: 'biGs', 279: 'HwangSin', 280: 'SarenS', 281: 'Eiki', 282: 'StarNaN', 283: 'ParalyzE', 284: 'Noblesse', 285: 'hyvaa', 286: 'JonnyREcco', 287: 'HayprO', 288: 'NoRegreT', 289: 'Pet', 290: 'Maker', 291: 'Sound', 292: 'Tarrantius', 293: 'Ziktomini', 294: 'Blaze', 295: 'Miniraser', 296: 'Seiplo', 297: 'Coffee', 298: 'asd', 299: 'Sorry', 300: 'desRow', 301: 'Delphi', 302: 'Terminator', 303: 'ShaDoWn', 304: 'jookTo', 305: 'Revenant', 306: 'Hui', 307: 'JangBi', 308: 'JazBas', 309: 'Avenge', 310: 'SLusH', 311: 'SpeeD', 312: 'cheetos', 313: 'Optimus', 314: 'Winter', 315: 'NonY', 316: 'Jig', 317: 'Punk', 318: 'Tunico', 319: 'F91', 320: 'Satiini', 321: 'DS', 322: 'Tassadar', 323: 'Ball', 324: 'ReaL', 325: 'Shuttle', 326: 'Uhen', 327: 'Bioice', 328: 'DemiLove', 329: 'Hitman', 330: 'DaNa', 331: 'ByRada', 332: 'GAMETIME', 333: 'Ourk', 334: 'Strange', 335: 'Insur', 336: 'Reynor', 337: 'Denver', 338: 'sKyHigh', 339: 'PandaBearMe', 340: 'Nifi', 341: 'Rushcrazy', 342: 'BrAvO', 343: 'MightyKiwi', 344: 'Jarppi', 345: 'Cloudy', 346: 'drewbie', 347: 'Guitarcheese', 348: 'Erik', 349: 'Prebs', 350: 'tgun', 351: 'Ostojiy', 352: 'AureS', 353: 'Yekke', 354: 'Bistork', 355: 'Chick', 356: 'dreamertt', 357: 'theognis', 358: 'PsiOniC', 359: 'MiNiMaTh', 360: 'Fist', 361: 'Capoch', 362: 'LoLvsxD', 363: 'Krr', 364: 'KawaiiRice', 365: 'Snitchables', 366: 'PainUser', 367: 'ZhuGeLiang', 368: 'merz', 369: 'StarEagle', 370: 'Rose', 371: 'iNSoLeNCE', 372: 'Axslav', 373: 'Lillekanin', 374: 'hellokitty', 375: 'daisuki', 376: 'PSiArc', 377: 'Raze', 378: 'Intense', 379: 'Siw', 380: 'Majestic', 381: 'Brown', 382: 'KenZy', 383: 'Turuk', 384: 'sYz', 385: 'RuFF', 386: 'Machine', 387: 'Arium', 388: 'AlaStOr', 389: 'LoveTt', 390: 'Melle', 391: 'Noname', 392: 'ABomB', 393: 'Crazy', 394: 'Min', 395: 'Spear', 396: 'Drunkenboi', 397: 'DmC', 398: 'RedArchon', 399: 'CrunCher', 400: 'FLY', 401: 'PoYo', 402: 'SaroVati', 403: 'Lau', 404: 'Azure', 405: 'Darkness', 406: 'PenguiN', 407: 'Fuzer', 408: 'Orly', 409: 'Clannad', 410: 'Ryu', 411: 'Center', 412: 'RiSky', 413: 'Crimson', 414: 'ReasoN', 415: 'Pokebunny', 416: 'Rossi', 417: 'Evire', 418: 'Eeel', 419: 'Clavie', 420: 'Ziggy', 421: 'eMotion', 422: 'SolO', 423: 'Cezanne', 424: 'AcRo', 425: 'Basior', 426: 'ToXiC', 427: 'uzer', 428: 'Fargo', 429: 'Zeal', 430: 'Silky', 431: 'Light', 432: 'Destiny', 433: 'Artist', 434: 'MeomaikA', 435: 'DdoRo', 436: 'Sioras', 437: 'roof', 438: 'Sonder', 439: 'Ezrc', 440: 'VINES', 441: 'ParanOid', 442: 'Attero', 443: 'iNcontroL', 444: 'EJK', 445: 'Miya', 446: 'KleeneX', 447: 'Revolver', 448: 'NeOAnGeL', 449: 'NucleaR', 450: 'Believe', 451: 'Boombox', 452: 'Luvsic', 453: 'BLord', 454: 'pal', 455: 'Alopex', 456: 'ArT', 457: 'Akki', 458: 'Rine', 459: 'hOpe', 460: 'TomikuS', 461: 'White', 462: 'Pezz', 463: 'Pomi', 464: 'HappyZerG', 465: 'YoGo', 466: 'Tilea', 467: 'mOoNan', 468: 'SaberAltoria', 469: 'Stalife', 470: 'Loup', 471: 'Arctur', 472: 'Cell', 473: 'JoJo', 474: 'Frustration', 475: 'Neytpoh', 476: 'Mystik', 477: 'Dragon', 478: 'RaNgeD', 479: 'Adonminus', 480: 'Smile', 481: 'Quiet', 482: 'Balloon', 483: 'Rake', 484: 'FeaR', 485: 'Vanilla', 486: 'KoMA', 487: 'Hawk', 488: 'kauP', 489: 'Sakya', 490: 'Aristeo', 491: 'Mix', 492: 'Sirius', 493: 'Sparrow', 494: 'Gatored', 495: 'viPro', 496: 'Zycart', 497: 'iNkA', 498: 'MoMaN', 499: 'DreAm', 500: 'PuPu', 501: 'kAra', 502: 'DBS', 503: 'Sjaak', 504: 'AnNyeong', 505: 'Blackcidy', 506: 'Flare', 507: 'ScaM', 508: 'Seal', 509: 'HuT', 510: 'Roll', 511: 'Perfect', 512: 'NaTuRal', 513: 'Protosser', 514: 'inuh', 515: 'ProAnnn', 516: 'Sparta', 517: 'Minato', 518: 'PhoeNix', 519: 'Trace', 520: 'CrazymoviNG', 521: 'JaBiTo', 522: 'Wally', 523: 'JJun', 524: 'Civi', 525: 'Jona', 526: 'SirRobin', 527: 'BreakingGG', 528: 'Abver', 529: 'Yours', 530: 'SLiDeR', 531: 'Peppy', 532: 'HateMe', 533: 'YoonYJ', 534: 'AlexCMoi', 535: 'DakkoN', 536: 'FunK', 537: 'Zeth', 538: 'Apro', 539: 'Bang', 540: 'Creature', 541: 'InZaNe', 542: 'TubbyTheFat', 543: 'Clem', 544: 'TurN', 545: 'Cuddlebear', 546: 'Siphonn', 547: 'Sasquatch', 548: 'SpaceMarine', 549: 'Zazu', 550: 'EdgE', 551: 'Moosegills', 552: 'deth', 553: 'Rodzyn', 554: 'HeltEn', 555: 'Gamja', 556: 'horror', 557: 'StrinterN', 558: 'Gemini', 559: 'ZerO', 560: 'DeathAngel', 561: 'Monty', 562: 'Ready', 563: 'Kyzer', 564: 'Uzikoti', 565: 'Trend', 566: 'PandaTank', 567: 'Elroye', 568: 'Shakti', 569: 'Hunter', 570: 'rsvp', 571: 'Osho', 572: 'starkiller', 573: 'DrakE', 574: 'Nado', 575: 'ReiToR', 576: 'Senin', 577: 'CoolTea', 578: 'SonG', 579: 'ELVIS', 580: 'DarK', 581: 'Pacomike', 582: 'YHY', 583: 'BsK', 584: 'Jason', 585: 'Everize', 586: 'Crane', 587: 'True', 588: 'Cytoplasm', 589: 'DeViL', 590: 'Phog', 591: 'Lobo', 592: 'Ash', 593: 'sLh', 594: 'Scythe', 595: 'CPU', 596: 'DarkHydra', 597: 'Botvinnik', 598: 'Chubz', 599: 'SaltTheWound', 600: 'Vaisravana', 601: 'Action', 602: 'hitmaN', 603: 'NarutO', 604: 'PengWin', 605: 'Shibbxyz', 606: 'Giantt', 607: 'Indy', 608: 'Kalin', 609: 'Fenner', 610: 'MiNiCrow', 611: 'CreamCake', 612: 'MouLou', 613: 'Cladorhiza', 614: 'Storm', 615: 'RunA', 616: 'ValuE', 617: 'StrifeCro', 618: 'Albion', 619: 'Narcotic', 620: 'Mamba', 621: 'Mekar', 622: 'StakimaN', 623: 'MurDeR', 624: 'DyyS', 625: 'rANDY', 626: 'TREME', 627: 'ZKO', 628: 'Sculp', 629: 'Jagelius', 630: 'Ciara', 631: 'Utopi', 632: 'Rotab', 633: 'Aicy', 634: 'Downfall', 635: 'Zervas', 636: 'Evaner', 637: 'Poker', 638: 'Avekatten', 639: 'Honor', 640: 'Spades', 641: 'wiNgiAN', 642: 'Sugar', 643: 'IceCream', 644: 'RainMan', 645: 'Elusory', 646: 'Underdark', 647: 'Mamuri', 648: 'Hellraiser', 649: 'Miso', 650: 'Ignite', 651: 'Voltz', 652: 'Bones', 653: 'sWs', 654: 'Grid', 655: 'JaXx', 656: 'KoNtiNuE', 657: 'MCanning', 658: 'Azz', 659: 'Law', 660: 'NoXOuT', 661: 'PredY', 662: 'Seigifried', 663: 'Satu', 664: 'Naugrim', 665: 'Mentalist', 666: 'Zan', 667: 'Haspe', 668: 'jheffe', 669: 'hinO', 670: 'SLeet', 671: 'Complain', 672: 'FuturE', 673: 'LzGaMeR', 674: 'Kitsune', 675: 'Miszu', 676: 'Origine', 677: 'eGGz', 678: 'xEi', 679: 'Heavens', 680: 'LeeLee', 681: 'UkraineStar', 682: 'Epic', 683: 'Firefly', 684: 'Revolution', 685: 'Forsen', 686: 'Personal', 687: 'Kez', 688: 'Chabby', 689: 'Spectrum', 690: 'Sonic', 691: 'Argo', 692: 'binski', 693: 'Kamker', 694: 'Stallion', 695: 'Myuu', 696: 'Freaky', 697: 'Jimpo', 698: 'MetHiX', 699: 'avilo', 700: 'KnowMe', 701: 'Bubbles', 702: 'danO', 703: 'Jamesykins', 704: 'Vasilisk', 705: 'KiFirE', 706: 'Romson', 707: 'OpTiKzErO', 708: 'borrex', 709: 'Creed', 710: 'Marsman', 711: 'KiToO', 712: 'Tiger', 713: 'Luolis', 714: 'RunaMoK', 715: 'Venus', 716: 'Revenge', 717: 'Glon', 718: 'RayReign', 719: 'TriMaster', 720: 'Mysticism', 721: 'Gerald', 722: 'Matiz', 723: 'TeebuL', 724: 'SeoHyeon', 725: 'VeniVidiVins', 726: 'jeysen', 727: 'Hannibal', 728: 'FuRy', 729: 'Geeden', 730: 'Rize', 731: 'hG', 732: 'Outside', 733: 'Nedi', 734: 'RazerBlader', 735: 'Cube', 736: 'Ryze', 737: 'Exehn', 738: 'Primelot', 739: 'frozz', 740: 'Elbegast', 741: 'TcUltimate', 742: 'GenjiTakiya', 743: 'Bonobo', 744: 'Calt', 745: 'EndOfLine', 746: 'Future', 747: 'ho8ot', 748: 'Laukyo', 749: 'TheoRy', 750: 'WPz', 751: 'WaKa', 752: 'Agh', 753: 'ThisIsJimmy', 754: 'Couguar', 755: 'Pox', 756: 'Rotcod', 757: 'Zelniq', 758: 'Phantom', 759: 'Farmcakes', 760: 'Thorminator', 761: 'ElhayM', 762: 'jEcho', 763: 'MaGiK', 764: 'goblin', 765: 'Malcolm', 766: 'WarreN', 767: 'Multi', 768: 'ArchangeL', 769: 'Harpner', 770: 'MaSsan', 771: 'Schnitzel', 772: 'Hymy', 773: 'Dolan', 774: 'Nathanias', 775: 'Blast', 776: 'Unix', 777: 'StoicWilly', 778: 'POX', 779: 'Rmdx', 780: 'Wilko', 781: 'control', 782: 'Deranging', 783: 'FIGHTO', 784: 'Headhunter', 785: 'Theo', 786: 'Rikytan', 787: 'DeeMo', 788: 'Operator', 789: 'Rengen', 790: 'FireZerg', 791: 'SenSei', 792: 'Exia', 793: 'ChanKiM', 794: 'SteAdfaSt', 795: 'Jade', 796: 'MythiC', 797: 'Bouli', 798: 'velego', 799: 'aGaham', 800: 'Ice', 801: 'XiaRu', 802: 'GamerRichy', 803: 'KroLu', 804: 'MygraiN', 805: 'Snuffe', 806: 'Adrian', 807: 'SoulSpirit', 808: 'STX', 809: 'yang', 810: 'HuShang', 811: 'LuckyFool', 812: 'Vanya', 813: 'Matvey', 814: 'Caliber', 815: 'Nistic', 816: 'Armax', 817: 'DeathMask', 818: 'Early', 819: 'CaVaLieR', 820: 'BlueCheese', 821: 'NeverDie', 822: 'ColdScars', 823: 'DarkCell', 824: 'monsteuh', 825: 'Orion', 826: 'Railgan', 827: 'cHoBo', 828: 'ghasT', 829: 'Jaden', 830: 'Towelie', 831: 'Malice', 832: 'RobbyG', 833: 'Lucifer', 834: 'Chase', 835: 'Shadowbites', 836: 'Druzdil', 837: 'MegaFonzie', 838: 'SKillous', 839: 'CheeseKing', 840: 'Hades', 841: 'Petrify', 842: 'FightingFrog', 843: 'Lightning', 844: 'StriKE', 845: 'PurpleHAzE', 846: 'TANGTANG', 847: 'Arrival', 848: 'Duolonn', 849: 'etidrood', 850: 'Spazymazy', 851: 'SwitchBack', 852: 'Tonho', 853: 'JungleKing', 854: 'MasTeR', 855: 'TheZergLord', 856: 'Titan', 857: 'KensShow', 858: 'Wardi', 859: 'SpellSinger', 860: 'omgabanana', 861: 'Darroweve', 862: 'JayPower', 863: 'SodoN', 864: 'Dane', 865: 'JoCeLyN', 866: 'Spartfire', 867: 'ToM', 868: 'funkay', 869: 'Hjax', 870: 'MorDka', 871: 'Ver', 872: 'NukeLar', 873: 'Ascarecrow', 874: 'Soundwave', 875: 'Fiasco', 876: 'Stormz', 877: 'TrOn', 878: 'Zinho', 879: 'Bonkarooni', 880: 'BuRning', 881: 'GogojOey', 882: 'Gremory', 883: 'NEEK', 884: 'Seala', 885: 'Chobosniper', 886: 'Friend', 887: 'Tesla', 888: 'PainGamer', 889: 'qbeN', 890: 'Fullmetal', 891: 'DominiC', 892: 'giX', 893: 'McMonroe', 894: 'Neige', 895: 'TAGurPRGNANT', 896: 'Virium', 897: 'xKawaiian', 898: 'EON', 899: 'GraVe', 900: 'inNirvana', 901: 'ARze', 902: 'Poizon', 903: 'Easy', 904: 'MperorM', 905: 'Arnovic', 906: 'KingCobra', 907: 'Arkthelegend', 908: 'delete', 909: 'NaMeK', 910: 'RusZerg', 911: 'Relmer', 912: 'CealeR', 913: 'Healer', 914: 'ProzeR', 915: 'Gow', 916: 'Xaoras', 917: 'EGG', 918: 'Elifas', 919: 'PappiJoe', 920: 'yunga', 921: 'Milka', 922: 'AlisoN', 923: 'jumanjii', 924: 'PulSe', 925: 'CalebAracous', 926: 'Gretorp', 927: 'HasHe', 928: 'Shew', 929: 'ZenedoR', 930: 'QuanChi', 931: 'Silvano', 932: 'Kimo', 933: 'Breach', 934: 'Neuro', 935: 'Nomatch', 936: 'SatO', 937: 'maTTzour', 938: 'PsychO', 939: 'Freeman', 940: 'Khyira', 941: 'niceq', 942: 'AqueroN', 943: 'Chelovek', 944: 'LsEbA', 945: 'nukestrike', 946: 'picur', 947: 'Rinka', 948: 'whiteant', 949: 'NeXa', 950: 'ShinO', 951: 'dwar', 952: 'aconcises', 953: 'CharSiuBao', 954: 'Nitix', 955: 'TerrOr', 956: 'CruiseR', 957: 'nExt', 958: 'waCK', 959: 'Pro7ecT', 960: 'Dylayn', 961: 'HolyHit', 962: 'Morpheus', 963: 'Vindicta', 964: 'BluE', 965: 'DisK', 966: 'EnigMa', 967: 'fallenger', 968: 'Garitos', 969: 'Hupsaiya', 970: 'msrm', 971: 'Nefaste', 972: 'Overmind', 973: 'Phoenix', 974: 'SqrtofnegOne', 975: 'Tactyle', 976: 'Voidreaver', 977: 'ZenAku', 978: 'AvaTaR', 979: 'Quent', 980: 'HaPe', 981: 'kel', 982: 'MeCh', 983: 'MystiC', 984: 'Tallahassee', 985: 'Xormentor', 986: 'Fazer', 987: 'Keiras'}\n"
     ]
    }
   ],
   "source": [
    "import csv\n",
    "global players\n",
    "players = 0\n",
    "player_dict = dict()\n",
    "with open('train.csv', newline='') as csv_file:\n",
    "    csv_reader = csv.reader(csv_file, delimiter=',')\n",
    "    for row in csv_reader:\n",
    "        if str(row[1]) not in player_dict.values():\n",
    "            player_dict[players] = str(row[1])\n",
    "            players += 1\n",
    "print(player_dict)"
   ]
  },
  {
   "cell_type": "code",
   "execution_count": 78,
   "metadata": {},
   "outputs": [
    {
     "name": "stdout",
     "output_type": "stream",
     "text": [
      "[(0, 23, -1), (0, 17, -1), (0, 5, -1), (0, 47, -1), (0, 136, 1), (0, 32, 1), (0, 86, 1), (0, 11, -1), (0, 43, -1), (0, 11, 1), (0, 43, -1), (0, 136, -1), (0, 11, 1), (0, 342, -1), (0, 294, 1), (0, 108, 1), (0, 135, 1), (0, 70, -1), (0, 51, 1), (0, 527, 1)]\n"
     ]
    }
   ],
   "source": [
    "def get_id(val):\n",
    "    for key, value in player_dict.items():\n",
    "        if val == value:\n",
    "             return key\n",
    "\n",
    "games = []\n",
    "with open('train.csv', newline='') as csv_file:\n",
    "    csv_reader = csv.reader(csv_file, delimiter=',')\n",
    "    for row in csv_reader:\n",
    "        player1 = get_id(str(row[1]))\n",
    "        player2 = get_id(str(row[4]))\n",
    "        if player2 is None:\n",
    "            global players\n",
    "            player_dict[players] = str(row[4])\n",
    "            player2 = players\n",
    "            players += 1\n",
    "        if row[2] == \"[loser]\":\n",
    "            score = -1\n",
    "        else:\n",
    "            score = +1\n",
    "        games.append((player1, player2, score))\n",
    "print(games[0:20]) #it works"
   ]
  },
  {
   "cell_type": "markdown",
   "metadata": {},
   "source": [
    "### Win probability and graphical model"
   ]
  },
  {
   "cell_type": "code",
   "execution_count": 79,
   "metadata": {},
   "outputs": [],
   "source": [
    "nplayers = max( [max(g[0],g[1]) for g in games] )+1\n",
    "nlevels = 10   # let's say 10 discrete skill levels\n",
    "scale = .3     # this scales how skill difference translates to win probability\n",
    "\n",
    "# Make variables for each player; value = skill level\n",
    "X = [None]*nplayers\n",
    "for i in range(nplayers):\n",
    "    X[i] = gm.Var(i, nlevels)   \n",
    "\n",
    "# Information from each game: what does Pi winning over Pj tell us?\n",
    "#    Win probability  Pr[win | Xi-Xj]  depends on skill difference of players\n",
    "Pwin = np.zeros( (nlevels,nlevels) )\n",
    "for i in range(nlevels):\n",
    "    for j in range(nlevels):\n",
    "        diff = i-j                   # find the advantage of Pi over Pj, then \n",
    "        Pwin[i,j] = (1./(1+np.exp(-scale*diff)))  # Pwin = logistic of advantage\n",
    "\n",
    "# before any games, uniform belief over skill levels for each player:\n",
    "factors = [ gm.Factor([X[i]],1./nlevels) for i in range(nplayers) ]\n",
    "\n",
    "# Now add the information from each game:\n",
    "for g in games:\n",
    "    P1,P2,win = g[0],g[1],g[2]\n",
    "    if P1 != P2:\n",
    "        if P1>P2: P1,P2,win=P2,P1,-win  # (need to make player IDs sorted...)\n",
    "        inside = gm.Factor([X[P1],X[P2]], Pwin if win>0 else 1-Pwin)\n",
    "        factors.append(inside)"
   ]
  },
  {
   "cell_type": "code",
   "execution_count": null,
   "metadata": {},
   "outputs": [],
   "source": [
    "model = gm.GraphModel(factors)\n",
    "model.makeMinimal()  # merge any duplicate factors (e.g., repeated games)"
   ]
  },
  {
   "cell_type": "code",
   "execution_count": null,
   "metadata": {},
   "outputs": [],
   "source": [
    "if model.nvar < 0:       # for very small models, we can do brute force inference:\n",
    "    jt = model.joint()\n",
    "    jt /= jt.sum()       # normalize the distribution and marginalize the table\n",
    "    bel = [jt.marginal([i]) for i in range(nplayers)] \n",
    "else:                    # otherwise we need to use some approximate inference:\n",
    "    from pyGM.messagepass import LBP, NMF\n",
    "    lnZ,bel = LBP(model, maxIter=10, verbose=True)   # loopy BP\n",
    "    #lnZ,bel = NMF(model, maxIter=10, verbose=True)  # Mean field"
   ]
  },
  {
   "cell_type": "markdown",
   "metadata": {},
   "source": [
    "### Ranking players by predicted skill"
   ]
  },
  {
   "cell_type": "code",
   "execution_count": null,
   "metadata": {},
   "outputs": [],
   "source": [
    "print(\"Mean skill estimates: \")\n",
    "print([ bel[i].table.dot(np.arange(nlevels)) for i in range(nplayers)] )"
   ]
  },
  {
   "cell_type": "markdown",
   "metadata": {},
   "source": [
    "### Predicting match outcomes"
   ]
  },
  {
   "cell_type": "code",
   "execution_count": null,
   "metadata": {},
   "outputs": [],
   "source": []
  }
 ],
 "metadata": {
  "kernelspec": {
   "display_name": "Python 3",
   "language": "python",
   "name": "python3"
  },
  "language_info": {
   "codemirror_mode": {
    "name": "ipython",
    "version": 3
   },
   "file_extension": ".py",
   "mimetype": "text/x-python",
   "name": "python",
   "nbconvert_exporter": "python",
   "pygments_lexer": "ipython3",
   "version": "3.8.3"
  }
 },
 "nbformat": 4,
 "nbformat_minor": 4
}
